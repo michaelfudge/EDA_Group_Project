{
 "cells": [
  {
   "cell_type": "markdown",
   "id": "2e269ebb",
   "metadata": {},
   "source": [
    "First commit"
   ]
  }
 ],
 "metadata": {
  "language_info": {
   "name": "python"
  }
 },
 "nbformat": 4,
 "nbformat_minor": 5
}
