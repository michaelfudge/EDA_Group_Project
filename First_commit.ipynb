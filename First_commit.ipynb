{
 "cells": [
  {
   "cell_type": "markdown",
   "id": "2e269ebb",
   "metadata": {},
   "source": [
    "First commit\n",
    "\n",
    "# updated by jay"
   ]
  },
  {
   "cell_type": "markdown",
   "id": "c121bc05",
   "metadata": {},
   "source": []
  },
  {
   "cell_type": "markdown",
   "id": "d780b47a",
   "metadata": {},
   "source": [
    "First Commit - updated by Ida"
   ]
  },
  {
   "cell_type": "markdown",
   "id": "01be9b12",
   "metadata": {},
   "source": []
  }
 ],
 "metadata": {
  "language_info": {
   "name": "python"
  }
 },
 "nbformat": 4,
 "nbformat_minor": 5
}
